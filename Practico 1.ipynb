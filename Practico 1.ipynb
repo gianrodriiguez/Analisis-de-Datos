{
 "cells": [
  {
   "cell_type": "code",
   "execution_count": 18,
   "metadata": {},
   "outputs": [
    {
     "name": "stderr",
     "output_type": "stream",
     "text": [
      "/var/folders/r8/gmr3b7392sv34k3zrkjx5w7r0000gn/T/ipykernel_74194/2512511378.py:3: DtypeWarning: Columns (22,32,38) have mixed types. Specify dtype option on import or set low_memory=False.\n",
      "  df = pd.read_csv('/Users/gianfrancorodriguez/Desktop/permisos_construccion_2.csv')\n"
     ]
    },
    {
     "name": "stdout",
     "output_type": "stream",
     "text": [
      "  Permit Number  Permit Type  Permit Type Definition Permit Creation Date  \\\n",
      "0       M788927            8  otc alterations permit           05/23/2017   \n",
      "1  201305318356            8  otc alterations permit           05/31/2013   \n",
      "2  201705106205            8  otc alterations permit           05/10/2017   \n",
      "3  201410279983            8  otc alterations permit           10/27/2014   \n",
      "4  201310280388            8  otc alterations permit           10/28/2013   \n",
      "\n",
      "  Block   Lot  Street Number Street Number Suffix Street Name Street Suffix  \\\n",
      "0  0215   001           1333                  NaN       jOnEs            St   \n",
      "1  1810  017A           1483                  NaN        43rD            Av   \n",
      "2  5700   027            431                  NaN    pReNtIsS            St   \n",
      "3  0661   005           2020                  NaN        bUsH            St   \n",
      "4  3642  051A            871                  NaN        cApP            St   \n",
      "\n",
      "   ...  Existing Construction Type Existing Construction Type Description  \\\n",
      "0  ...                         NaN                                    NaN   \n",
      "1  ...                         5.0                         wood frame (5)   \n",
      "2  ...                         5.0                         wood frame (5)   \n",
      "3  ...                         5.0                         wood frame (5)   \n",
      "4  ...                         5.0                         wood frame (5)   \n",
      "\n",
      "  Proposed Construction Type Proposed Construction Type Description  \\\n",
      "0                        NaN                                    NaN   \n",
      "1                        5.0                         wood frame (5)   \n",
      "2                        5.0                         wood frame (5)   \n",
      "3                        5.0                         wood frame (5)   \n",
      "4                        5.0                         wood frame (5)   \n",
      "\n",
      "  Site Permit Supervisor District Neighborhoods - Analysis Boundaries  \\\n",
      "0         NaN                 3.0                            Nob Hill   \n",
      "1         NaN                 4.0                     Sunset/Parkside   \n",
      "2         NaN                 9.0                      Bernal Heights   \n",
      "3         NaN                 5.0                     Pacific Heights   \n",
      "4         NaN                 9.0                             Mission   \n",
      "\n",
      "   Zipcode                                   Location      Record ID  \n",
      "0  94109.0   (37.79362102799777, -122.41488237355445)  1464153232862  \n",
      "1  94122.0  (37.759041020475465, -122.50286985467523)  1306559115258  \n",
      "2  94110.0   (37.73778863007536, -122.41197863877355)  1462579187173  \n",
      "3  94115.0   (37.78762264983362, -122.43099126735969)   136037778128  \n",
      "4  94110.0   (37.75275550565926, -122.41707462095194)  1322242163712  \n",
      "\n",
      "[5 rows x 43 columns]\n",
      "Cant Filas 198910\n",
      "Cant Columnas 43\n",
      "Hay filas duplicadas? False\n"
     ]
    }
   ],
   "source": [
    "import pandas as pd\n",
    "\n",
    "df = pd.read_csv('/Users/gianfrancorodriguez/Desktop/permisos_construccion_2.csv')\n",
    "\n",
    "# Esto Imprime primeras 5 filas, si quiero 10 filas pongo df.head(10)\n",
    "print(df.head())\n",
    "\n",
    "print(\"Cant Filas\", df.shape[0])\n",
    "print(\"Cant Columnas\", df.shape[1])\n",
    "\n",
    "print(\"Hay filas duplicadas?\", df.duplicados.any())"
   ]
  },
  {
   "cell_type": "code",
   "execution_count": 23,
   "metadata": {},
   "outputs": [
    {
     "name": "stdout",
     "output_type": "stream",
     "text": [
      "Empty DataFrame\n",
      "Columns: [Permit Number, Permit Type, Permit Type Definition, Permit Creation Date, Block, Lot, Street Number, Street Number Suffix, Street Name, Street Suffix, Unit, Unit Suffix, Description, Current Status, Current Status Date, Filed Date, Issued Date, Completed Date, First Construction Document Date, Structural Notification, Number of Existing Stories, Number of Proposed Stories, Voluntary Soft-Story Retrofit, Fire Only Permit, Permit Expiration Date, Estimated Cost, Revised Cost, Existing Use, Existing Units, Proposed Use, Proposed Units, Plansets, TIDF Compliance, Existing Construction Type, Existing Construction Type Description, Proposed Construction Type, Proposed Construction Type Description, Site Permit, Supervisor District, Neighborhoods - Analysis Boundaries, Zipcode, Location, Record ID]\n",
      "Index: []\n",
      "\n",
      "[0 rows x 43 columns]\n"
     ]
    }
   ],
   "source": [
    "\n"
   ]
  },
  {
   "cell_type": "code",
   "execution_count": 25,
   "metadata": {},
   "outputs": [
    {
     "name": "stdout",
     "output_type": "stream",
     "text": [
      "Número de filas duplicadas: 0\n"
     ]
    }
   ],
   "source": [
    "# Contar el número de filas duplicadas\n",
    "duplicados = df.duplicated()\n",
    "num_duplicados = df.duplicated().sum()\n",
    "print(f\"Número de filas duplicadas: {num_duplicados}\")\n"
   ]
  },
  {
   "cell_type": "code",
   "execution_count": null,
   "metadata": {},
   "outputs": [],
   "source": []
  }
 ],
 "metadata": {
  "kernelspec": {
   "display_name": "Python 3",
   "language": "python",
   "name": "python3"
  },
  "language_info": {
   "codemirror_mode": {
    "name": "ipython",
    "version": 3
   },
   "file_extension": ".py",
   "mimetype": "text/x-python",
   "name": "python",
   "nbconvert_exporter": "python",
   "pygments_lexer": "ipython3",
   "version": "3.11.6"
  }
 },
 "nbformat": 4,
 "nbformat_minor": 2
}
